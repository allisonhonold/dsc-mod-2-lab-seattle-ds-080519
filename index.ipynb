{
 "cells": [
  {
   "cell_type": "code",
   "execution_count": 1,
   "metadata": {},
   "outputs": [],
   "source": [
    "import pandas as pd\n",
    "import sqlite3\n",
    "from matplotlib import pyplot as plt\n",
    "\n",
    "%matplotlib inline\n",
    "\n",
    "import requests\n",
    "from team import Team\n",
    "from load_data import get_clubs_df, get_matches_df\n",
    "from weathergetter import WeatherGetter\n",
    "from mongohandler import MongoHandler\n",
    "import pymongo"
   ]
  },
  {
   "cell_type": "code",
   "execution_count": 2,
   "metadata": {},
   "outputs": [],
   "source": [
    "conn = sqlite3.connect('database.sqlite')"
   ]
  },
  {
   "cell_type": "code",
   "execution_count": 3,
   "metadata": {},
   "outputs": [],
   "source": [
    "clubs_df = get_clubs_df(conn)"
   ]
  },
  {
   "cell_type": "code",
   "execution_count": 4,
   "metadata": {},
   "outputs": [],
   "source": [
    "getter = WeatherGetter()"
   ]
  },
  {
   "cell_type": "code",
   "execution_count": 5,
   "metadata": {},
   "outputs": [],
   "source": [
    "matches_df = get_matches_df(conn)"
   ]
  },
  {
   "cell_type": "code",
   "execution_count": 6,
   "metadata": {},
   "outputs": [],
   "source": [
    "# commented out to avoid re-querying the API\n",
    "# matches_df['rainy'] = [getter.get_weather(date) for date in matches['Date']]\n",
    "matches_df = pd.read_csv('matches.csv')\n",
    "matches_df.drop(columns='Unnamed: 0', inplace=True)"
   ]
  },
  {
   "cell_type": "code",
   "execution_count": null,
   "metadata": {},
   "outputs": [],
   "source": [
    "mongo = MongoHandler()"
   ]
  },
  {
   "cell_type": "code",
   "execution_count": null,
   "metadata": {},
   "outputs": [],
   "source": [
    "for club in clubs_df['club'].unique():\n",
    "    team = Team(clubs_df.loc[clubs_df['club'] == club])\n",
    "#     team.create_w_l_chart()\n",
    "    team.set_games(clubs_df)\n",
    "    team.calc_rain_win_rate()\n",
    "    club_dict[club] = team\n",
    "club_dict.keys\n"
   ]
  },
  {
   "cell_type": "code",
   "execution_count": null,
   "metadata": {},
   "outputs": [],
   "source": [
    "clubs_df.loc[clubs_df['club']== 'Aachen']"
   ]
  },
  {
   "cell_type": "code",
   "execution_count": null,
   "metadata": {},
   "outputs": [],
   "source": [
    "aachen_df = pd.DataFrame(data={'club': ['Aachen'], 'home_goals': [15],\n",
    "                                'away_goals':[15], 'goals':[30], 'wins':[6],\n",
    "                                'losses':[15], 'ties':[13], 'total_games':[34],\n",
    "                                'season':[2011]}, dtype=[])\n",
    "# set datatypes"
   ]
  },
  {
   "cell_type": "code",
   "execution_count": null,
   "metadata": {
    "scrolled": true
   },
   "outputs": [],
   "source": [
    "# club_dict['Aachen'].calc_rain_win_rate()\n",
    "aachen = Team(aachen_df)\n",
    "# aachen.set_games(matches_df)\n",
    "aachen.calc_rain_win_rate()"
   ]
  },
  {
   "cell_type": "code",
   "execution_count": null,
   "metadata": {},
   "outputs": [],
   "source": [
    "games_df = matches_df\n",
    "aachen.games = games_df.loc[(str(games_df['HomeTeam'])== str(aachen.name)) | (str(games_df['AwayTeam'])== str(aachen.name))]\n",
    "aachen.games"
   ]
  },
  {
   "cell_type": "code",
   "execution_count": null,
   "metadata": {},
   "outputs": [],
   "source": []
  }
 ],
 "metadata": {
  "kernelspec": {
   "display_name": "Python [conda env:learn-env] *",
   "language": "python",
   "name": "conda-env-learn-env-py"
  },
  "language_info": {
   "codemirror_mode": {
    "name": "ipython",
    "version": 3
   },
   "file_extension": ".py",
   "mimetype": "text/x-python",
   "name": "python",
   "nbconvert_exporter": "python",
   "pygments_lexer": "ipython3",
   "version": "3.6.6"
  }
 },
 "nbformat": 4,
 "nbformat_minor": 2
}
